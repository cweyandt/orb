{
 "cells": [
  {
   "cell_type": "code",
   "execution_count": 3,
   "id": "ca41d7be-3521-491e-bf65-2b60f05370b5",
   "metadata": {
    "tags": []
   },
   "outputs": [],
   "source": [
    "import requests\n",
    "import pandas as pd\n",
    "import numpy as np\n",
    "from datetime import datetime"
   ]
  },
  {
   "cell_type": "markdown",
   "id": "d86a9485-e7af-4c83-a7f7-8b8a6c8462c7",
   "metadata": {},
   "source": [
    "### Connection Parameters"
   ]
  },
  {
   "cell_type": "code",
   "execution_count": 25,
   "id": "a868317b-55cf-40af-a9ad-3620ae2740ca",
   "metadata": {
    "tags": []
   },
   "outputs": [],
   "source": [
    "URL = 'http://orb/models/binseg_rbf'\n",
    "HEADERS = {'Content-type': 'application/json'}"
   ]
  },
  {
   "cell_type": "markdown",
   "id": "2bd77aaf-2c76-4712-a739-2d9fb300107a",
   "metadata": {},
   "source": [
    "### Load sample data"
   ]
  },
  {
   "cell_type": "code",
   "execution_count": 26,
   "id": "b97dcc8c-4684-4b91-96e5-cab253b28273",
   "metadata": {},
   "outputs": [],
   "source": [
    "wifiData = pd.read_pickle('../data/cleaned/' + 'wifi_ap_data.pkl')\n",
    "wifiTotals = wifiData.sum(axis=1).replace(0, np.nan).fillna(method='ffill')\n",
    "wifiTotals.index = wifiTotals.index.tz_localize(None)"
   ]
  },
  {
   "cell_type": "markdown",
   "id": "ed94daaa-6197-40e9-b698-862dd7ec3d6b",
   "metadata": {},
   "source": [
    "### Slice one week of data"
   ]
  },
  {
   "cell_type": "code",
   "execution_count": 27,
   "id": "fa8d3cb3-8e27-41c1-92df-42f5f5c490cd",
   "metadata": {},
   "outputs": [],
   "source": [
    "vals = np.array(wifiTotals[\"2020-6-20 00:00\":\"2020-6-28 00:00\"])\n",
    "ts = np.array(wifiTotals[\"2020-6-20 00:00\":\"2020-6-28 00:00\"].index)\n",
    "DATA = {\"ts\": ts.tolist(), \"val\": vals.tolist()}"
   ]
  },
  {
   "cell_type": "markdown",
   "id": "6ae6fa93-b5ee-4053-9f95-7510cafddbe2",
   "metadata": {},
   "source": [
    "### Define model parameters"
   ]
  },
  {
   "cell_type": "code",
   "execution_count": 28,
   "id": "ee0b97a2-f1e4-4cbb-bd45-d070cf40a064",
   "metadata": {},
   "outputs": [],
   "source": [
    "PARAMS = {\"breakpoints\": \"10\"}"
   ]
  },
  {
   "cell_type": "markdown",
   "id": "72e9f2d9-df66-46b9-afa1-0fcf5116d74f",
   "metadata": {},
   "source": [
    "### Genereate request to ORB API"
   ]
  },
  {
   "cell_type": "code",
   "execution_count": 31,
   "id": "e5cd01af-3618-48c1-baf4-c7a9d00da2c9",
   "metadata": {},
   "outputs": [],
   "source": [
    "response = requests.put(URL, headers=HEADERS, json=DATA, params=PARAMS)"
   ]
  },
  {
   "cell_type": "code",
   "execution_count": 32,
   "id": "3d67e795-98a0-45df-80d9-ffe6bbe0fe62",
   "metadata": {
    "tags": []
   },
   "outputs": [
    {
     "data": {
      "text/plain": [
       "{'bkps_i': [640, 775, 930, 1065, 1220, 1355, 1515, 1655, 1800, 1940, 2305],\n",
       " 'bkps_ts': ['2020-06-22T05:20:00+00:00',\n",
       "  '2020-06-22T16:35:00+00:00',\n",
       "  '2020-06-23T05:30:00+00:00',\n",
       "  '2020-06-23T16:45:00+00:00',\n",
       "  '2020-06-24T05:40:00+00:00',\n",
       "  '2020-06-24T16:55:00+00:00',\n",
       "  '2020-06-25T06:15:00+00:00',\n",
       "  '2020-06-25T17:55:00+00:00',\n",
       "  '2020-06-26T06:00:00+00:00',\n",
       "  '2020-06-26T17:40:00+00:00']}"
      ]
     },
     "execution_count": 32,
     "metadata": {},
     "output_type": "execute_result"
    }
   ],
   "source": [
    "response.json()"
   ]
  },
  {
   "cell_type": "code",
   "execution_count": 33,
   "id": "a52bc47b-3c17-4ac6-86fe-591a1ebdc17c",
   "metadata": {},
   "outputs": [],
   "source": [
    "response = requests.put(URL, headers=HEADERS, json=DATA, params=PARAMS)"
   ]
  },
  {
   "cell_type": "code",
   "execution_count": 34,
   "id": "0da89cbb-1013-4d8a-a95b-c2e0036c64cc",
   "metadata": {},
   "outputs": [
    {
     "name": "stdout",
     "output_type": "stream",
     "text": [
      "{'bkps_i': [640, 775, 930, 1065, 1220, 1355, 1515, 1655, 1800, 1940, 2305], 'bkps_ts': ['2020-06-22T05:20:00+00:00', '2020-06-22T16:35:00+00:00', '2020-06-23T05:30:00+00:00', '2020-06-23T16:45:00+00:00', '2020-06-24T05:40:00+00:00', '2020-06-24T16:55:00+00:00', '2020-06-25T06:15:00+00:00', '2020-06-25T17:55:00+00:00', '2020-06-26T06:00:00+00:00', '2020-06-26T17:40:00+00:00']}\n"
     ]
    }
   ],
   "source": [
    "print(response.json())\n",
    "# print(response.url)\n",
    "# print(response.request.headers)"
   ]
  },
  {
   "cell_type": "markdown",
   "id": "d7b168f6-3408-4c16-a988-4e2b6953b530",
   "metadata": {},
   "source": [
    "# Try the JSON Endpoint with Skyspark data sample formated as Haystack3 Grid object"
   ]
  },
  {
   "cell_type": "code",
   "execution_count": 36,
   "id": "c32273e8-e58f-4cd9-802f-7bb3d2027a9d",
   "metadata": {},
   "outputs": [],
   "source": [
    "from pprint import pprint\n",
    "import json\n",
    "\n",
    "def printResponse(res):\n",
    "    print(\"Response:\\t\" + str(res))\n",
    "    print(\"Reason:\\t\\t\" + str(res.reason))\n",
    "    print(\"Headers:\\t\" + str(res.headers))\n",
    "    print(\"Content:\\t _____________________________\" )\n",
    "    # print(res.content)\n",
    "    pprint(json.loads(res.content), width=120)"
   ]
  },
  {
   "cell_type": "code",
   "execution_count": 40,
   "id": "977911d4-1e87-4081-9467-2d8508d280b2",
   "metadata": {},
   "outputs": [],
   "source": [
    "url = 'http://orb/models/kernel/l2/json'\n",
    "headers = {'Content-type': 'application/json'}\n",
    "params = {\"breakpoints\": 10}"
   ]
  },
  {
   "cell_type": "code",
   "execution_count": 41,
   "id": "6e257d30-626a-4ffc-9a90-78abcb1d5b8b",
   "metadata": {},
   "outputs": [],
   "source": [
    "# Open the skyspark_grid.json file\n",
    "with open(\"../01_ETL/skyspark_grid.json\") as file:\n",
    "    # Load its content and make a new dictionary\n",
    "    data = json.load(file)"
   ]
  },
  {
   "cell_type": "code",
   "execution_count": 42,
   "id": "0f43a28c-cac5-43a0-9b74-ecac8c0f5654",
   "metadata": {},
   "outputs": [
    {
     "name": "stdout",
     "output_type": "stream",
     "text": [
      "Response:\t<Response [200]>\n",
      "Reason:\t\tOK\n",
      "Headers:\t{'date': 'Sat, 10 Jul 2021 16:33:49 GMT', 'server': 'uvicorn', 'content-length': '1387', 'content-type': 'application/json'}\n",
      "Content:\t _____________________________\n",
      "{'_kind': 'grid',\n",
      " 'cols': [{'name': 'ts'}, {'kind': 'Bool', 'name': 'v0'}],\n",
      " 'meta': {'hisEnd': {'_kind': 'dateTime', 'tz': 'Los_Angeles', 'val': '2021-06-23T00:00:00-07:00'},\n",
      "          'hisStart': {'_kind': 'dateTime', 'tz': 'Los_Angeles', 'val': '2021-06-22T00:00:00-07:00'},\n",
      "          'ver': '3.0'},\n",
      " 'rows': [{'ts': {'_kind': 'dateTime', 'tz': 'Los_Angeles', 'val': '2021-06-22T00:00:00-07:00'}, 'v0': 'false'},\n",
      "          {'ts': {'_kind': 'dateTime', 'tz': 'Los_Angeles', 'val': '2021-06-22T04:35:00-07:00'}, 'v0': 'true'},\n",
      "          {'ts': {'_kind': 'dateTime', 'tz': 'Los_Angeles', 'val': '2021-06-22T08:30:00-07:00'}, 'v0': 'false'},\n",
      "          {'ts': {'_kind': 'dateTime', 'tz': 'Los_Angeles', 'val': '2021-06-22T12:20:00-07:00'}, 'v0': 'true'},\n",
      "          {'ts': {'_kind': 'dateTime', 'tz': 'Los_Angeles', 'val': '2021-06-22T13:10:00-07:00'}, 'v0': 'false'},\n",
      "          {'ts': {'_kind': 'dateTime', 'tz': 'Los_Angeles', 'val': '2021-06-22T14:40:00-07:00'}, 'v0': 'true'},\n",
      "          {'ts': {'_kind': 'dateTime', 'tz': 'Los_Angeles', 'val': '2021-06-22T15:25:00-07:00'}, 'v0': 'false'},\n",
      "          {'ts': {'_kind': 'dateTime', 'tz': 'Los_Angeles', 'val': '2021-06-22T17:00:00-07:00'}, 'v0': 'true'},\n",
      "          {'ts': {'_kind': 'dateTime', 'tz': 'Los_Angeles', 'val': '2021-06-22T17:50:00-07:00'}, 'v0': 'false'},\n",
      "          {'ts': {'_kind': 'dateTime', 'tz': 'Los_Angeles', 'val': '2021-06-22T19:10:00-07:00'}, 'v0': 'true'},\n",
      "          {'ts': {'_kind': 'dateTime', 'tz': 'Los_Angeles', 'val': '2021-06-22T21:00:00-07:00'}, 'v0': 'false'},\n",
      "          {'ts': {'_kind': 'dateTime', 'tz': 'Los_Angeles', 'val': '2021-06-23T00:00:00-07:00'}, 'v0': 'true'}]}\n"
     ]
    }
   ],
   "source": [
    "response = requests.post(url, headers=headers, json=data, params=params)\n",
    "printResponse(response)"
   ]
  },
  {
   "cell_type": "code",
   "execution_count": null,
   "id": "1d8f866c-4e50-48b1-bdc8-57ee06aa3318",
   "metadata": {},
   "outputs": [],
   "source": []
  },
  {
   "cell_type": "code",
   "execution_count": null,
   "id": "1fa0c522-4e40-4e32-bb0d-d70c9dee51fd",
   "metadata": {},
   "outputs": [],
   "source": []
  }
 ],
 "metadata": {
  "kernelspec": {
   "display_name": "Python 3",
   "language": "python",
   "name": "python3"
  },
  "language_info": {
   "codemirror_mode": {
    "name": "ipython",
    "version": 3
   },
   "file_extension": ".py",
   "mimetype": "text/x-python",
   "name": "python",
   "nbconvert_exporter": "python",
   "pygments_lexer": "ipython3",
   "version": "3.9.4"
  }
 },
 "nbformat": 4,
 "nbformat_minor": 5
}

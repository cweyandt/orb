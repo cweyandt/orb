{
 "cells": [
  {
   "cell_type": "code",
   "execution_count": 1,
   "id": "ca41d7be-3521-491e-bf65-2b60f05370b5",
   "metadata": {
    "tags": []
   },
   "outputs": [],
   "source": [
    "import requests\n",
    "import pandas as pd\n",
    "import numpy as np\n",
    "from datetime import datetime"
   ]
  },
  {
   "cell_type": "markdown",
   "id": "d86a9485-e7af-4c83-a7f7-8b8a6c8462c7",
   "metadata": {},
   "source": [
    "### Connection Parameters"
   ]
  },
  {
   "cell_type": "code",
   "execution_count": 2,
   "id": "a868317b-55cf-40af-a9ad-3620ae2740ca",
   "metadata": {
    "tags": []
   },
   "outputs": [],
   "source": [
    "URL = 'http://orb/models/binseg_rbf'\n",
    "HEADERS = {'Content-type': 'application/json'}"
   ]
  },
  {
   "cell_type": "markdown",
   "id": "2bd77aaf-2c76-4712-a739-2d9fb300107a",
   "metadata": {},
   "source": [
    "### Load sample data"
   ]
  },
  {
   "cell_type": "code",
   "execution_count": 3,
   "id": "b97dcc8c-4684-4b91-96e5-cab253b28273",
   "metadata": {},
   "outputs": [],
   "source": [
    "wifiData = pd.read_pickle('../data/cleaned/' + 'wifi_ap_data.pkl')\n",
    "wifiTotals = wifiData.sum(axis=1).replace(0, np.nan).fillna(method='ffill')\n",
    "wifiTotals.index = wifiTotals.index.tz_localize(None)"
   ]
  },
  {
   "cell_type": "markdown",
   "id": "ed94daaa-6197-40e9-b698-862dd7ec3d6b",
   "metadata": {},
   "source": [
    "### Slice one week of data"
   ]
  },
  {
   "cell_type": "code",
   "execution_count": 4,
   "id": "fa8d3cb3-8e27-41c1-92df-42f5f5c490cd",
   "metadata": {},
   "outputs": [],
   "source": [
    "vals = np.array(wifiTotals[\"2020-6-20 00:00\":\"2020-6-28 00:00\"])\n",
    "ts = np.array(wifiTotals[\"2020-6-20 00:00\":\"2020-6-28 00:00\"].index)\n",
    "DATA = {\"ts\": ts.tolist(), \"val\": vals.tolist()}"
   ]
  },
  {
   "cell_type": "markdown",
   "id": "6ae6fa93-b5ee-4053-9f95-7510cafddbe2",
   "metadata": {},
   "source": [
    "### Define model parameters"
   ]
  },
  {
   "cell_type": "code",
   "execution_count": 5,
   "id": "ee0b97a2-f1e4-4cbb-bd45-d070cf40a064",
   "metadata": {},
   "outputs": [],
   "source": [
    "PARAMS = {\"breakpoints\": \"10\"}"
   ]
  },
  {
   "cell_type": "markdown",
   "id": "72e9f2d9-df66-46b9-afa1-0fcf5116d74f",
   "metadata": {},
   "source": [
    "### Genereate request to ORB API"
   ]
  },
  {
   "cell_type": "code",
   "execution_count": 6,
   "id": "e5cd01af-3618-48c1-baf4-c7a9d00da2c9",
   "metadata": {},
   "outputs": [],
   "source": [
    "response = requests.put(URL, headers=HEADERS, json=DATA, params=PARAMS)"
   ]
  },
  {
   "cell_type": "code",
   "execution_count": 7,
   "id": "3d67e795-98a0-45df-80d9-ffe6bbe0fe62",
   "metadata": {
    "tags": []
   },
   "outputs": [
    {
     "data": {
      "text/plain": [
       "{'bkps_i': [640, 775, 930, 1065, 1220, 1355, 1515, 1655, 1800, 1940, 2305],\n",
       " 'bkps_ts': ['2020-06-22T05:20:00+00:00',\n",
       "  '2020-06-22T16:35:00+00:00',\n",
       "  '2020-06-23T05:30:00+00:00',\n",
       "  '2020-06-23T16:45:00+00:00',\n",
       "  '2020-06-24T05:40:00+00:00',\n",
       "  '2020-06-24T16:55:00+00:00',\n",
       "  '2020-06-25T06:15:00+00:00',\n",
       "  '2020-06-25T17:55:00+00:00',\n",
       "  '2020-06-26T06:00:00+00:00',\n",
       "  '2020-06-26T17:40:00+00:00']}"
      ]
     },
     "execution_count": 7,
     "metadata": {},
     "output_type": "execute_result"
    }
   ],
   "source": [
    "response.json()"
   ]
  },
  {
   "cell_type": "code",
   "execution_count": 8,
   "id": "a52bc47b-3c17-4ac6-86fe-591a1ebdc17c",
   "metadata": {},
   "outputs": [
    {
     "ename": "NameError",
     "evalue": "name 'url' is not defined",
     "output_type": "error",
     "traceback": [
      "\u001b[0;31m\u001b[0m",
      "\u001b[0;31mNameError\u001b[0mTraceback (most recent call last)",
      "\u001b[0;32m<ipython-input-8-054e7dac28b3>\u001b[0m in \u001b[0;36m<module>\u001b[0;34m\u001b[0m\n\u001b[0;32m----> 1\u001b[0;31m \u001b[0mresponse\u001b[0m \u001b[0;34m=\u001b[0m \u001b[0mrequests\u001b[0m\u001b[0;34m.\u001b[0m\u001b[0mput\u001b[0m\u001b[0;34m(\u001b[0m\u001b[0murl\u001b[0m\u001b[0;34m+\u001b[0m\u001b[0;34m'/plot'\u001b[0m\u001b[0;34m,\u001b[0m \u001b[0mheaders\u001b[0m\u001b[0;34m=\u001b[0m\u001b[0mheaders\u001b[0m\u001b[0;34m,\u001b[0m \u001b[0mjson\u001b[0m\u001b[0;34m=\u001b[0m\u001b[0mdata\u001b[0m\u001b[0;34m,\u001b[0m \u001b[0mparams\u001b[0m\u001b[0;34m=\u001b[0m\u001b[0mparams\u001b[0m\u001b[0;34m)\u001b[0m\u001b[0;34m\u001b[0m\u001b[0;34m\u001b[0m\u001b[0m\n\u001b[0m",
      "\u001b[0;31mNameError\u001b[0m: name 'url' is not defined"
     ]
    }
   ],
   "source": [
    "response = requests.put(url+'/plot', headers=headers, json=data, params=params)"
   ]
  },
  {
   "cell_type": "code",
   "execution_count": null,
   "id": "0da89cbb-1013-4d8a-a95b-c2e0036c64cc",
   "metadata": {},
   "outputs": [],
   "source": [
    "print(response.json())\n",
    "# print(response.url)\n",
    "# print(response.request.headers)"
   ]
  },
  {
   "cell_type": "code",
   "execution_count": null,
   "id": "dd2e4a5a-e667-42ec-8de5-6021da994459",
   "metadata": {},
   "outputs": [],
   "source": []
  }
 ],
 "metadata": {
  "kernelspec": {
   "display_name": "Python 3",
   "language": "python",
   "name": "python3"
  },
  "language_info": {
   "codemirror_mode": {
    "name": "ipython",
    "version": 3
   },
   "file_extension": ".py",
   "mimetype": "text/x-python",
   "name": "python",
   "nbconvert_exporter": "python",
   "pygments_lexer": "ipython3",
   "version": "3.9.4"
  }
 },
 "nbformat": 4,
 "nbformat_minor": 5
}

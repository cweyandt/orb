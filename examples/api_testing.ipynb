{
 "cells": [
  {
   "cell_type": "code",
   "execution_count": 40,
   "id": "ca41d7be-3521-491e-bf65-2b60f05370b5",
   "metadata": {},
   "outputs": [],
   "source": [
    "import requests\n",
    "import pandas as pd\n",
    "import numpy as np\n",
    "from datetime import datetime"
   ]
  },
  {
   "cell_type": "code",
   "execution_count": 41,
   "id": "a868317b-55cf-40af-a9ad-3620ae2740ca",
   "metadata": {},
   "outputs": [],
   "source": [
    "url = 'http://orb/models/binseg_rbf'\n",
    "headers = {'Content-type': 'application/json'}"
   ]
  },
  {
   "cell_type": "code",
   "execution_count": 42,
   "id": "b97dcc8c-4684-4b91-96e5-cab253b28273",
   "metadata": {},
   "outputs": [],
   "source": [
    "wifiData = pd.read_pickle('../data/cleaned/' + 'wifi_ap_data.pkl')\n",
    "wifiTotals = wifiData.sum(axis=1)\n",
    "wifiTotals = wifiTotals.replace(0, np.nan)\n",
    "wifiTotals = wifiTotals.fillna(method='ffill')\n",
    "wifiTotals.index = wifiTotals.index.tz_localize(None)"
   ]
  },
  {
   "cell_type": "code",
   "execution_count": 43,
   "id": "fa8d3cb3-8e27-41c1-92df-42f5f5c490cd",
   "metadata": {},
   "outputs": [],
   "source": [
    "vals = np.array(wifiTotals[\"2020-6-21 00:00\":\"2020-6-28 00:00\"])\n",
    "ts = np.array(wifiTotals[\"2020-6-21 00:00\":\"2020-6-28 00:00\"].index)"
   ]
  },
  {
   "cell_type": "code",
   "execution_count": 44,
   "id": "ee0b97a2-f1e4-4cbb-bd45-d070cf40a064",
   "metadata": {},
   "outputs": [],
   "source": [
    "data= {\"ts\": ts.tolist(), \"val\": vals.tolist()}\n",
    "params = {\"breakpoints\": \"10\"}"
   ]
  },
  {
   "cell_type": "code",
   "execution_count": 50,
   "id": "a52bc47b-3c17-4ac6-86fe-591a1ebdc17c",
   "metadata": {},
   "outputs": [],
   "source": [
    "response = requests.put(url, headers=headers, json=data, params=params)"
   ]
  },
  {
   "cell_type": "code",
   "execution_count": 51,
   "id": "0da89cbb-1013-4d8a-a95b-c2e0036c64cc",
   "metadata": {},
   "outputs": [
    {
     "name": "stdout",
     "output_type": "stream",
     "text": [
      "{'bkps_i': [355, 490, 645, 780, 935, 1070, 1230, 1365, 1515, 1650, 2017], 'bkps_ts': ['2020-06-22T05:35:00+00:00', '2020-06-22T16:50:00+00:00', '2020-06-23T05:45:00+00:00', '2020-06-23T17:00:00+00:00', '2020-06-24T05:55:00+00:00', '2020-06-24T17:10:00+00:00', '2020-06-25T06:30:00+00:00', '2020-06-25T17:45:00+00:00', '2020-06-26T06:15:00+00:00', '2020-06-26T17:30:00+00:00']}\n"
     ]
    }
   ],
   "source": [
    "print(response.json())\n",
    "# print(response.url)\n",
    "# print(response.request.headers)"
   ]
  },
  {
   "cell_type": "code",
   "execution_count": null,
   "id": "98e430a9-af08-410a-85c9-96813afc7965",
   "metadata": {},
   "outputs": [],
   "source": []
  }
 ],
 "metadata": {
  "kernelspec": {
   "display_name": "Python 3",
   "language": "python",
   "name": "python3"
  },
  "language_info": {
   "codemirror_mode": {
    "name": "ipython",
    "version": 3
   },
   "file_extension": ".py",
   "mimetype": "text/x-python",
   "name": "python",
   "nbconvert_exporter": "python",
   "pygments_lexer": "ipython3",
   "version": "3.9.4"
  }
 },
 "nbformat": 4,
 "nbformat_minor": 5
}

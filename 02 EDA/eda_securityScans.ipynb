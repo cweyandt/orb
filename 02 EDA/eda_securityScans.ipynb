{
  "nbformat": 4,
  "nbformat_minor": 0,
  "metadata": {
    "colab": {
      "name": "eda_securityScans.ipynb",
      "provenance": [],
      "collapsed_sections": [],
      "toc_visible": true
    },
    "kernelspec": {
      "name": "python3",
      "display_name": "Python 3"
    },
    "language_info": {
      "name": "python"
    }
  },
  "cells": [
    {
      "cell_type": "code",
      "metadata": {
        "colab": {
          "base_uri": "https://localhost:8080/"
        },
        "id": "GYr6h5giJ1OH",
        "outputId": "3e462359-6b1e-4b61-dd33-93758912db83"
      },
      "source": [
        "from google.colab import drive\n",
        "import pandas as pd\n",
        "import numpy as np\n",
        "import os\n",
        "import re\n",
        "\n",
        "import matplotlib.pyplot as plt\n",
        "plt.rcParams[\"figure.figsize\"] = (20,10)\n",
        "# Mount google drive to list the raw data files\n",
        "\n",
        "# Mounting the drive is straightforward but requires authentication each \n",
        "# time we reset the session\n",
        "drive.mount('/content/drive')\n",
        "drive_path = '/content/drive/Shareddrives/Capstone_Vacancy/data/'\n",
        "# ! ls /content/drive/Shareddrives/Capstone_Vacancy/data"
      ],
      "execution_count": null,
      "outputs": [
        {
          "output_type": "stream",
          "text": [
            "Drive already mounted at /content/drive; to attempt to forcibly remount, call drive.mount(\"/content/drive\", force_remount=True).\n"
          ],
          "name": "stdout"
        }
      ]
    },
    {
      "cell_type": "code",
      "metadata": {
        "id": "0y3mgt6OJ8-K"
      },
      "source": [
        "securityEvents = pd.read_pickle(drive_path + 'cleaned/' + 'securityEvents.pkl')\n",
        "securityDailyAll = pd.read_pickle(drive_path + 'cleaned/' + 'securityDailyAll.pkl')\n",
        "securityDailyUnique = pd.read_pickle(drive_path + 'cleaned/' + 'securityDailyUnique.pkl')\n",
        "securityHourlyUnique = pd.read_pickle(drive_path + 'cleaned/' + 'securityHourlyUnique.pkl')"
      ],
      "execution_count": null,
      "outputs": []
    },
    {
      "cell_type": "markdown",
      "metadata": {
        "id": "WzJQ7ZUJKwvp"
      },
      "source": [
        "# Security Events\n",
        "\n",
        "This is the unprocessed list of security card scans.  \n",
        "\n",
        "There are several event types that should be used for filtering. For example, if access is not granted at an internal reader, it still indicates that a person is in the building. Access not granted at an external reader should not count as an additional occupant, although likely often results in a person being admitted.  \n",
        "\n",
        "The timestamps can be used as actual times tamps of card scans. Rollup should be performed via `count` aggregation."
      ]
    },
    {
      "cell_type": "code",
      "metadata": {
        "colab": {
          "base_uri": "https://localhost:8080/",
          "height": 204
        },
        "id": "gpujwEn8KfqL",
        "outputId": "21bae092-c055-47b5-c831-115b8a528c77"
      },
      "source": [
        "securityEvents.head()"
      ],
      "execution_count": null,
      "outputs": [
        {
          "output_type": "execute_result",
          "data": {
            "text/html": [
              "<div>\n",
              "<style scoped>\n",
              "    .dataframe tbody tr th:only-of-type {\n",
              "        vertical-align: middle;\n",
              "    }\n",
              "\n",
              "    .dataframe tbody tr th {\n",
              "        vertical-align: top;\n",
              "    }\n",
              "\n",
              "    .dataframe thead th {\n",
              "        text-align: right;\n",
              "    }\n",
              "</style>\n",
              "<table border=\"1\" class=\"dataframe\">\n",
              "  <thead>\n",
              "    <tr style=\"text-align: right;\">\n",
              "      <th></th>\n",
              "      <th>Reader</th>\n",
              "      <th>Event</th>\n",
              "      <th>Floor</th>\n",
              "      <th>Room</th>\n",
              "      <th>Type</th>\n",
              "    </tr>\n",
              "  </thead>\n",
              "  <tbody>\n",
              "    <tr>\n",
              "      <th>2020-05-01 13:11:13+00:00</th>\n",
              "      <td>2 230W Int</td>\n",
              "      <td>Access Granted</td>\n",
              "      <td>2</td>\n",
              "      <td>230W</td>\n",
              "      <td>Int</td>\n",
              "    </tr>\n",
              "    <tr>\n",
              "      <th>2020-05-01 07:04:37+00:00</th>\n",
              "      <td>2 265 Int</td>\n",
              "      <td>Access Granted</td>\n",
              "      <td>2</td>\n",
              "      <td>265</td>\n",
              "      <td>Int</td>\n",
              "    </tr>\n",
              "    <tr>\n",
              "      <th>2020-05-01 07:04:26+00:00</th>\n",
              "      <td>2 285 Ext</td>\n",
              "      <td>Access Granted</td>\n",
              "      <td>2</td>\n",
              "      <td>285</td>\n",
              "      <td>Ext</td>\n",
              "    </tr>\n",
              "    <tr>\n",
              "      <th>2020-05-01 10:46:15+00:00</th>\n",
              "      <td>3 393 Ext</td>\n",
              "      <td>Access Granted</td>\n",
              "      <td>3</td>\n",
              "      <td>393</td>\n",
              "      <td>Ext</td>\n",
              "    </tr>\n",
              "    <tr>\n",
              "      <th>2020-05-01 12:01:24+00:00</th>\n",
              "      <td>1 192 Ext</td>\n",
              "      <td>Access Granted</td>\n",
              "      <td>1</td>\n",
              "      <td>192</td>\n",
              "      <td>Ext</td>\n",
              "    </tr>\n",
              "  </tbody>\n",
              "</table>\n",
              "</div>"
            ],
            "text/plain": [
              "                               Reader           Event  Floor  Room Type\n",
              "2020-05-01 13:11:13+00:00  2 230W Int  Access Granted      2  230W  Int\n",
              "2020-05-01 07:04:37+00:00   2 265 Int  Access Granted      2   265  Int\n",
              "2020-05-01 07:04:26+00:00   2 285 Ext  Access Granted      2   285  Ext\n",
              "2020-05-01 10:46:15+00:00   3 393 Ext  Access Granted      3   393  Ext\n",
              "2020-05-01 12:01:24+00:00   1 192 Ext  Access Granted      1   192  Ext"
            ]
          },
          "metadata": {
            "tags": []
          },
          "execution_count": 4
        }
      ]
    },
    {
      "cell_type": "code",
      "metadata": {
        "colab": {
          "base_uri": "https://localhost:8080/",
          "height": 630
        },
        "id": "bhHDfdT9V6Na",
        "outputId": "0560bfc3-13b2-45ec-a4c1-ddee91512a3f"
      },
      "source": [
        "securityEvents['2021-03-01':'2021-03-14'][\"Type\"].resample('10min').count().plot()"
      ],
      "execution_count": null,
      "outputs": [
        {
          "output_type": "execute_result",
          "data": {
            "text/plain": [
              "<matplotlib.axes._subplots.AxesSubplot at 0x7fa3e1431550>"
            ]
          },
          "metadata": {
            "tags": []
          },
          "execution_count": 16
        },
        {
          "output_type": "display_data",
          "data": {
            "image/png": "[encoded data removed]",
            "text/plain": [
              "<Figure size 1440x720 with 1 Axes>"
            ]
          },
          "metadata": {
            "tags": [],
            "needs_background": "light"
          }
        }
      ]
    },
    {
      "cell_type": "markdown",
      "metadata": {
        "id": "yEorJBTiLgs3"
      },
      "source": [
        "# Security daily totals\n",
        "\n",
        "```\n",
        "- count:      daily total card scans - whole building inside and out.  \n",
        "- countExt:   daily total exterior card scans. \n",
        "- countInt:   daily total interior card scans. \n",
        "- unique:     daily total unique cards scanned. \n",
        "- uniqueExt:  daily total unique cards exterior card scans. \n",
        "- uniqueInt:  daily total unique cards interior card scans.\n",
        "```\n",
        "\n"
      ]
    },
    {
      "cell_type": "code",
      "metadata": {
        "colab": {
          "base_uri": "https://localhost:8080/",
          "height": 235
        },
        "id": "H1MmvnJnKiMk",
        "outputId": "0dd53c66-795f-4649-f9a3-2b98ba4d7268"
      },
      "source": [
        "securityDailyAll.head()"
      ],
      "execution_count": null,
      "outputs": [
        {
          "output_type": "execute_result",
          "data": {
            "text/html": [
              "<div>\n",
              "<style scoped>\n",
              "    .dataframe tbody tr th:only-of-type {\n",
              "        vertical-align: middle;\n",
              "    }\n",
              "\n",
              "    .dataframe tbody tr th {\n",
              "        vertical-align: top;\n",
              "    }\n",
              "\n",
              "    .dataframe thead th {\n",
              "        text-align: right;\n",
              "    }\n",
              "</style>\n",
              "<table border=\"1\" class=\"dataframe\">\n",
              "  <thead>\n",
              "    <tr style=\"text-align: right;\">\n",
              "      <th></th>\n",
              "      <th>count</th>\n",
              "      <th>countExt</th>\n",
              "      <th>countInt</th>\n",
              "      <th>unique</th>\n",
              "      <th>uniqueExt</th>\n",
              "      <th>uniqueInt</th>\n",
              "    </tr>\n",
              "    <tr>\n",
              "      <th>Date</th>\n",
              "      <th></th>\n",
              "      <th></th>\n",
              "      <th></th>\n",
              "      <th></th>\n",
              "      <th></th>\n",
              "      <th></th>\n",
              "    </tr>\n",
              "  </thead>\n",
              "  <tbody>\n",
              "    <tr>\n",
              "      <th>2020-05-01 00:00:00+00:00</th>\n",
              "      <td>52.0</td>\n",
              "      <td>31.0</td>\n",
              "      <td>21.0</td>\n",
              "      <td>20.0</td>\n",
              "      <td>18.0</td>\n",
              "      <td>8.0</td>\n",
              "    </tr>\n",
              "    <tr>\n",
              "      <th>2020-05-02 00:00:00+00:00</th>\n",
              "      <td>8.0</td>\n",
              "      <td>4.0</td>\n",
              "      <td>4.0</td>\n",
              "      <td>3.0</td>\n",
              "      <td>3.0</td>\n",
              "      <td>2.0</td>\n",
              "    </tr>\n",
              "    <tr>\n",
              "      <th>2020-05-03 00:00:00+00:00</th>\n",
              "      <td>1.0</td>\n",
              "      <td>1.0</td>\n",
              "      <td>0.0</td>\n",
              "      <td>1.0</td>\n",
              "      <td>1.0</td>\n",
              "      <td>0.0</td>\n",
              "    </tr>\n",
              "    <tr>\n",
              "      <th>2020-05-04 00:00:00+00:00</th>\n",
              "      <td>50.0</td>\n",
              "      <td>33.0</td>\n",
              "      <td>17.0</td>\n",
              "      <td>13.0</td>\n",
              "      <td>13.0</td>\n",
              "      <td>5.0</td>\n",
              "    </tr>\n",
              "    <tr>\n",
              "      <th>2020-05-05 00:00:00+00:00</th>\n",
              "      <td>117.0</td>\n",
              "      <td>72.0</td>\n",
              "      <td>45.0</td>\n",
              "      <td>25.0</td>\n",
              "      <td>25.0</td>\n",
              "      <td>16.0</td>\n",
              "    </tr>\n",
              "  </tbody>\n",
              "</table>\n",
              "</div>"
            ],
            "text/plain": [
              "                           count  countExt  ...  uniqueExt  uniqueInt\n",
              "Date                                        ...                      \n",
              "2020-05-01 00:00:00+00:00   52.0      31.0  ...       18.0        8.0\n",
              "2020-05-02 00:00:00+00:00    8.0       4.0  ...        3.0        2.0\n",
              "2020-05-03 00:00:00+00:00    1.0       1.0  ...        1.0        0.0\n",
              "2020-05-04 00:00:00+00:00   50.0      33.0  ...       13.0        5.0\n",
              "2020-05-05 00:00:00+00:00  117.0      72.0  ...       25.0       16.0\n",
              "\n",
              "[5 rows x 6 columns]"
            ]
          },
          "metadata": {
            "tags": []
          },
          "execution_count": 4
        }
      ]
    },
    {
      "cell_type": "markdown",
      "metadata": {
        "id": "nQyjAowJM2uV"
      },
      "source": [
        "# Security daily total unique scans per floor and int/ext\n",
        "\n",
        "```\n",
        "All:\t  daily total unique cards scanned - whole building \n",
        "Ext:\t  daily total unique exterior cards scanned\n",
        "Int:\t  daily total unique interior cards scanned\n",
        "1_Ext:\tdaily total unique exterior cards scanned, 1st floor\n",
        "2_Ext:\tdaily total unique exterior cards scanned, 2nd floor\n",
        "3_Ext:\tdaily total unique exterior cards scanned, 3rd floor\n",
        "1_Int:\tdaily total unique interior cards scanned, 1st floor\t\n",
        "2_Int:\tdaily total unique interior cards scanned, 2nd floor\t\n",
        "3_Int:\tdaily total unique interior cards scanned, 3rd floor\t\n",
        "```\n",
        "\n"
      ]
    },
    {
      "cell_type": "code",
      "metadata": {
        "colab": {
          "base_uri": "https://localhost:8080/",
          "height": 204
        },
        "id": "LJlyyiWvKj2y",
        "outputId": "4f94132d-99b8-4e77-c49e-79b31039b6a8"
      },
      "source": [
        "securityDailyUnique.head()"
      ],
      "execution_count": null,
      "outputs": [
        {
          "output_type": "execute_result",
          "data": {
            "text/html": [
              "<div>\n",
              "<style scoped>\n",
              "    .dataframe tbody tr th:only-of-type {\n",
              "        vertical-align: middle;\n",
              "    }\n",
              "\n",
              "    .dataframe tbody tr th {\n",
              "        vertical-align: top;\n",
              "    }\n",
              "\n",
              "    .dataframe thead th {\n",
              "        text-align: right;\n",
              "    }\n",
              "</style>\n",
              "<table border=\"1\" class=\"dataframe\">\n",
              "  <thead>\n",
              "    <tr style=\"text-align: right;\">\n",
              "      <th></th>\n",
              "      <th>All</th>\n",
              "      <th>Ext</th>\n",
              "      <th>Int</th>\n",
              "      <th>1_Ext</th>\n",
              "      <th>2_Ext</th>\n",
              "      <th>3_Ext</th>\n",
              "      <th>1_Int</th>\n",
              "      <th>2_Int</th>\n",
              "      <th>3_Int</th>\n",
              "    </tr>\n",
              "  </thead>\n",
              "  <tbody>\n",
              "    <tr>\n",
              "      <th>2020-05-01 00:00:00+00:00</th>\n",
              "      <td>20</td>\n",
              "      <td>18</td>\n",
              "      <td>8</td>\n",
              "      <td>12</td>\n",
              "      <td>5</td>\n",
              "      <td>2</td>\n",
              "      <td>4</td>\n",
              "      <td>4</td>\n",
              "      <td>0</td>\n",
              "    </tr>\n",
              "    <tr>\n",
              "      <th>2020-05-02 00:00:00+00:00</th>\n",
              "      <td>3</td>\n",
              "      <td>3</td>\n",
              "      <td>2</td>\n",
              "      <td>3</td>\n",
              "      <td>0</td>\n",
              "      <td>0</td>\n",
              "      <td>1</td>\n",
              "      <td>2</td>\n",
              "      <td>1</td>\n",
              "    </tr>\n",
              "    <tr>\n",
              "      <th>2020-05-03 00:00:00+00:00</th>\n",
              "      <td>1</td>\n",
              "      <td>1</td>\n",
              "      <td>0</td>\n",
              "      <td>1</td>\n",
              "      <td>0</td>\n",
              "      <td>0</td>\n",
              "      <td>0</td>\n",
              "      <td>0</td>\n",
              "      <td>0</td>\n",
              "    </tr>\n",
              "    <tr>\n",
              "      <th>2020-05-04 00:00:00+00:00</th>\n",
              "      <td>13</td>\n",
              "      <td>13</td>\n",
              "      <td>5</td>\n",
              "      <td>12</td>\n",
              "      <td>1</td>\n",
              "      <td>0</td>\n",
              "      <td>4</td>\n",
              "      <td>1</td>\n",
              "      <td>2</td>\n",
              "    </tr>\n",
              "    <tr>\n",
              "      <th>2020-05-05 00:00:00+00:00</th>\n",
              "      <td>25</td>\n",
              "      <td>25</td>\n",
              "      <td>16</td>\n",
              "      <td>23</td>\n",
              "      <td>4</td>\n",
              "      <td>1</td>\n",
              "      <td>13</td>\n",
              "      <td>5</td>\n",
              "      <td>2</td>\n",
              "    </tr>\n",
              "  </tbody>\n",
              "</table>\n",
              "</div>"
            ],
            "text/plain": [
              "                           All  Ext  Int  1_Ext  ...  3_Ext  1_Int  2_Int  3_Int\n",
              "2020-05-01 00:00:00+00:00   20   18    8     12  ...      2      4      4      0\n",
              "2020-05-02 00:00:00+00:00    3    3    2      3  ...      0      1      2      1\n",
              "2020-05-03 00:00:00+00:00    1    1    0      1  ...      0      0      0      0\n",
              "2020-05-04 00:00:00+00:00   13   13    5     12  ...      0      4      1      2\n",
              "2020-05-05 00:00:00+00:00   25   25   16     23  ...      1     13      5      2\n",
              "\n",
              "[5 rows x 9 columns]"
            ]
          },
          "metadata": {
            "tags": []
          },
          "execution_count": 5
        }
      ]
    },
    {
      "cell_type": "markdown",
      "metadata": {
        "id": "Hu6UO0J_OF5b"
      },
      "source": [
        "# Security hourly total unique scans per floor and int/ext\n",
        "\n",
        "```\n",
        "All:\t  hourly total unique cards scanned - whole building \n",
        "Ext:\t  hourly total unique exterior cards scanned\n",
        "Int:\t  hourly total unique interior cards scanned\n",
        "1_Ext:\thourly total unique exterior cards scanned, 1st floor\n",
        "2_Ext:\thourly total unique exterior cards scanned, 2nd floor\n",
        "3_Ext:\thourly total unique exterior cards scanned, 3rd floor\n",
        "1_Int:\thourly total unique interior cards scanned, 1st floor\t\n",
        "2_Int:\thourly total unique interior cards scanned, 2nd floor\t\n",
        "3_Int:\thourly total unique interior cards scanned, 3rd floor\t\n",
        "```\n",
        "\n"
      ]
    },
    {
      "cell_type": "code",
      "metadata": {
        "colab": {
          "base_uri": "https://localhost:8080/",
          "height": 204
        },
        "id": "CKCnC70lKmNz",
        "outputId": "e36fe277-cfb2-436a-9718-e2cd27011cd3"
      },
      "source": [
        "securityHourlyUnique.head()"
      ],
      "execution_count": null,
      "outputs": [
        {
          "output_type": "execute_result",
          "data": {
            "text/html": [
              "<div>\n",
              "<style scoped>\n",
              "    .dataframe tbody tr th:only-of-type {\n",
              "        vertical-align: middle;\n",
              "    }\n",
              "\n",
              "    .dataframe tbody tr th {\n",
              "        vertical-align: top;\n",
              "    }\n",
              "\n",
              "    .dataframe thead th {\n",
              "        text-align: right;\n",
              "    }\n",
              "</style>\n",
              "<table border=\"1\" class=\"dataframe\">\n",
              "  <thead>\n",
              "    <tr style=\"text-align: right;\">\n",
              "      <th></th>\n",
              "      <th>All</th>\n",
              "      <th>Ext</th>\n",
              "      <th>Int</th>\n",
              "      <th>1_Ext</th>\n",
              "      <th>2_Ext</th>\n",
              "      <th>3_Ext</th>\n",
              "      <th>1_Int</th>\n",
              "      <th>2_Int</th>\n",
              "      <th>3_Int</th>\n",
              "    </tr>\n",
              "  </thead>\n",
              "  <tbody>\n",
              "    <tr>\n",
              "      <th>2020-05-01 06:00:00+00:00</th>\n",
              "      <td>5</td>\n",
              "      <td>5</td>\n",
              "      <td>0</td>\n",
              "      <td>2</td>\n",
              "      <td>3</td>\n",
              "      <td>0</td>\n",
              "      <td>0</td>\n",
              "      <td>0</td>\n",
              "      <td>0</td>\n",
              "    </tr>\n",
              "    <tr>\n",
              "      <th>2020-05-01 07:00:00+00:00</th>\n",
              "      <td>2</td>\n",
              "      <td>2</td>\n",
              "      <td>1</td>\n",
              "      <td>0</td>\n",
              "      <td>2</td>\n",
              "      <td>0</td>\n",
              "      <td>0</td>\n",
              "      <td>1</td>\n",
              "      <td>0</td>\n",
              "    </tr>\n",
              "    <tr>\n",
              "      <th>2020-05-01 08:00:00+00:00</th>\n",
              "      <td>1</td>\n",
              "      <td>0</td>\n",
              "      <td>1</td>\n",
              "      <td>0</td>\n",
              "      <td>0</td>\n",
              "      <td>0</td>\n",
              "      <td>1</td>\n",
              "      <td>0</td>\n",
              "      <td>0</td>\n",
              "    </tr>\n",
              "    <tr>\n",
              "      <th>2020-05-01 09:00:00+00:00</th>\n",
              "      <td>2</td>\n",
              "      <td>2</td>\n",
              "      <td>0</td>\n",
              "      <td>1</td>\n",
              "      <td>1</td>\n",
              "      <td>0</td>\n",
              "      <td>0</td>\n",
              "      <td>0</td>\n",
              "      <td>0</td>\n",
              "    </tr>\n",
              "    <tr>\n",
              "      <th>2020-05-01 10:00:00+00:00</th>\n",
              "      <td>3</td>\n",
              "      <td>2</td>\n",
              "      <td>1</td>\n",
              "      <td>0</td>\n",
              "      <td>1</td>\n",
              "      <td>1</td>\n",
              "      <td>1</td>\n",
              "      <td>0</td>\n",
              "      <td>0</td>\n",
              "    </tr>\n",
              "  </tbody>\n",
              "</table>\n",
              "</div>"
            ],
            "text/plain": [
              "                           All  Ext  Int  1_Ext  ...  3_Ext  1_Int  2_Int  3_Int\n",
              "2020-05-01 06:00:00+00:00    5    5    0      2  ...      0      0      0      0\n",
              "2020-05-01 07:00:00+00:00    2    2    1      0  ...      0      0      1      0\n",
              "2020-05-01 08:00:00+00:00    1    0    1      0  ...      0      1      0      0\n",
              "2020-05-01 09:00:00+00:00    2    2    0      1  ...      0      0      0      0\n",
              "2020-05-01 10:00:00+00:00    3    2    1      0  ...      1      1      0      0\n",
              "\n",
              "[5 rows x 9 columns]"
            ]
          },
          "metadata": {
            "tags": []
          },
          "execution_count": 6
        }
      ]
    },
    {
      "cell_type": "code",
      "metadata": {
        "id": "IprLLFddKnwi"
      },
      "source": [
        ""
      ],
      "execution_count": null,
      "outputs": []
    }
  ]
}